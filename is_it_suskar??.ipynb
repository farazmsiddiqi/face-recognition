{
 "cells": [
  {
   "cell_type": "code",
   "execution_count": 16,
   "metadata": {},
   "outputs": [],
   "source": [
    "import face_recognition\n",
    "import cv2\n",
    "import numpy as np\n",
    "import os\n",
    "import glob\n",
    "import dlib"
   ]
  },
  {
   "cell_type": "markdown",
   "metadata": {},
   "source": [
    "## Definitions"
   ]
  },
  {
   "cell_type": "code",
   "execution_count": 2,
   "metadata": {},
   "outputs": [],
   "source": [
    "faces_encodings = []\n",
    "faces_names = []\n",
    "cur_direc = os.getcwd()\n",
    "path = os.path.join(cur_direc, 'data/faces/')\n",
    "list_of_files = [f for f in glob.glob(path+'*.jpg')]\n",
    "number_files = len(list_of_files)\n",
    "names = list_of_files.copy()"
   ]
  },
  {
   "cell_type": "markdown",
   "metadata": {},
   "source": [
    "## Training Loop"
   ]
  },
  {
   "cell_type": "code",
   "execution_count": 3,
   "metadata": {},
   "outputs": [],
   "source": [
    "for i in range(number_files):\n",
    "    globals()['image_{}'.format(i)] = face_recognition.load_image_file(list_of_files[i])\n",
    "    globals()['image_encoding_{}'.format(i)] = face_recognition.face_encodings(globals()['image_{}'.format(i)])[0]\n",
    "    faces_encodings.append(globals()['image_encoding_{}'.format(i)])\n",
    "# Create array of known names\n",
    "    names[i] = \"ugly-ass-mf\"\n",
    "    faces_names.append(names[i])"
   ]
  },
  {
   "cell_type": "markdown",
   "metadata": {},
   "source": [
    "## Use camera"
   ]
  },
  {
   "cell_type": "code",
   "execution_count": 9,
   "metadata": {},
   "outputs": [],
   "source": [
    "face_locations = []\n",
    "face_encodings = []\n",
    "face_names = []\n",
    "process_this_frame = True"
   ]
  },
  {
   "cell_type": "code",
   "execution_count": 25,
   "metadata": {},
   "outputs": [
    {
     "name": "stdout",
     "output_type": "stream",
     "text": [
      "RGB SHAPE:  (270, 480, 3)\n",
      "RGB TYPE:  <class 'numpy.ndarray'>\n",
      "PRINTING FACE\n",
      "RGB SHAPE:  (270, 480, 3)\n",
      "RGB TYPE:  <class 'numpy.ndarray'>\n",
      "[]\n",
      "<class 'list'>\n",
      "RGB SHAPE:  (270, 480, 3)\n",
      "RGB TYPE:  <class 'numpy.ndarray'>\n",
      "RGB SHAPE:  (270, 480, 3)\n",
      "RGB TYPE:  <class 'numpy.ndarray'>\n",
      "[(66, 265, 156, 175)]\n",
      "<class 'list'>\n",
      "PRINTING FACE\n"
     ]
    }
   ],
   "source": [
    "video_capture = cv2.VideoCapture(0)\n",
    "\n",
    "while True:\n",
    "    ret, frame = video_capture.read()\n",
    "    \n",
    "    try:\n",
    "        small_frame = cv2.resize(frame, (0, 0), fx=0.25, fy=0.25)\n",
    "    except Exception as e:\n",
    "        continue\n",
    "    \n",
    "    rgb_small_frame = cv2.cvtColor(small_frame, cv2.COLOR_BGR2RGB)\n",
    "    print(\"RGB SHAPE: \", rgb_small_frame.shape)\n",
    "    print(\"RGB TYPE: \", type(rgb_small_frame))\n",
    "    \n",
    "    if process_this_frame:\n",
    "        face_locations = face_recognition.face_locations(rgb_small_frame)\n",
    "        print(face_locations)\n",
    "        print(type(face_locations))\n",
    "        face_names = []\n",
    "\n",
    "        if face_locations:\n",
    "            face_encodings = face_recognition.face_encodings(rgb_small_frame, known_face_locations=face_locations)\n",
    "            # face_encodings = face_recognition.face_encodings(rgb_small_frame, face_locations)\n",
    "            \n",
    "            for face_encoding in face_encodings:\n",
    "                matches = face_recognition.compare_faces(faces_encodings, face_encoding)\n",
    "                name = \"Beautiful as FUCK\"\n",
    "                face_distances = face_recognition.face_distance( faces_encodings, face_encoding)\n",
    "                best_match_index = np.argmin(face_distances)\n",
    "                \n",
    "                if matches[best_match_index]:\n",
    "                    name = faces_names[best_match_index]\n",
    "                face_names.append(name)\n",
    "            \n",
    "    process_this_frame = not process_this_frame\n",
    "    \n",
    "    # Display the results\n",
    "    for (top, right, bottom, left), name in zip(face_locations, face_names):\n",
    "        print(\"PRINTING FACE\")\n",
    "        top *= 4\n",
    "        right *= 4\n",
    "        bottom *= 4\n",
    "        left *= 4\n",
    "        \n",
    "        # Draw a rectangle around the face\n",
    "        cv2.rectangle(frame, (left, top), (right, bottom), (0, 0, 255), 2)\n",
    "        \n",
    "        # Input text label with a name below the face\n",
    "        cv2.rectangle(frame, (left, bottom - 35), (right, bottom), (0, 0, 255), cv2.FILLED)\n",
    "        font = cv2.FONT_HERSHEY_DUPLEX\n",
    "        cv2.putText(frame, name, (left + 6, bottom - 6), font, 1.0, (255, 255, 255), 1)\n",
    "        \n",
    "    # Display the resulting image\n",
    "    cv2.imshow('Video', frame)\n",
    "    # Hit 'q' on the keyboard to quit!\n",
    "    if cv2.waitKey(1) & 0xFF == ord('q'):\n",
    "        break"
   ]
  },
  {
   "cell_type": "code",
   "execution_count": null,
   "metadata": {},
   "outputs": [],
   "source": []
  }
 ],
 "metadata": {
  "kernelspec": {
   "display_name": "Python 3",
   "language": "python",
   "name": "python3"
  },
  "language_info": {
   "codemirror_mode": {
    "name": "ipython",
    "version": 3
   },
   "file_extension": ".py",
   "mimetype": "text/x-python",
   "name": "python",
   "nbconvert_exporter": "python",
   "pygments_lexer": "ipython3",
   "version": "3.9.17"
  }
 },
 "nbformat": 4,
 "nbformat_minor": 2
}
